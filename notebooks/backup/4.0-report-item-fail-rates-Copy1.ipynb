{
 "cells": [
  {
   "cell_type": "code",
   "execution_count": null,
   "metadata": {},
   "outputs": [],
   "source": [
    "%reset"
   ]
  },
  {
   "cell_type": "markdown",
   "metadata": {},
   "source": [
    "###################################################################       \n",
    "#Script Name    :                                                                                              \n",
    "#Description    :                                                                                 \n",
    "#Args           :                                                                                           \n",
    "#Author         : Nikhil Rao in R, converted to Python by Nor Raymond                                              \n",
    "#Email          : nraymond@appen.com                                          \n",
    "###################################################################"
   ]
  },
  {
   "cell_type": "code",
   "execution_count": 1,
   "metadata": {},
   "outputs": [],
   "source": [
    "import os\n",
    "import glob \n",
    "import pandas as pd\n",
    "import numpy as np\n",
    "import yaml\n",
    "import warnings\n",
    "warnings.filterwarnings(\"ignore\")\n",
    "\n",
    "# Function to load yaml configuration file\n",
    "def load_config(config_name):\n",
    "    with open(os.path.join(config_path, config_name), 'r') as file:\n",
    "        config = yaml.safe_load(file)\n",
    "\n",
    "    return config\n",
    "\n",
    "config_path = \"conf/base\"\n",
    "\n",
    "try:\n",
    "    \n",
    "    # load yaml catalog configuration file\n",
    "    config = load_config(\"catalog.yml\")\n",
    "\n",
    "    os.chdir(config[\"project_path\"])\n",
    "    root_path = os.getcwd()\n",
    "    \n",
    "except:\n",
    "    \n",
    "    os.chdir('..')\n",
    "    # load yaml catalog configuration file\n",
    "    config = load_config(\"catalog.yml\")\n",
    "\n",
    "    os.chdir(config[\"project_path\"])\n",
    "    root_path = os.getcwd()\n",
    "    \n",
    "# import data_processing module\n",
    "import src.data.data_processing as data_processing"
   ]
  },
  {
   "cell_type": "code",
   "execution_count": 2,
   "metadata": {},
   "outputs": [
    {
     "data": {
      "text/html": [
       "<div>\n",
       "<style scoped>\n",
       "    .dataframe tbody tr th:only-of-type {\n",
       "        vertical-align: middle;\n",
       "    }\n",
       "\n",
       "    .dataframe tbody tr th {\n",
       "        vertical-align: top;\n",
       "    }\n",
       "\n",
       "    .dataframe thead th {\n",
       "        text-align: right;\n",
       "    }\n",
       "</style>\n",
       "<table border=\"1\" class=\"dataframe\">\n",
       "  <thead>\n",
       "    <tr style=\"text-align: right;\">\n",
       "      <th></th>\n",
       "      <th>Language</th>\n",
       "    </tr>\n",
       "  </thead>\n",
       "  <tbody>\n",
       "    <tr>\n",
       "      <th>0</th>\n",
       "      <td>Russian</td>\n",
       "    </tr>\n",
       "    <tr>\n",
       "      <th>1</th>\n",
       "      <td>Hebrew</td>\n",
       "    </tr>\n",
       "    <tr>\n",
       "      <th>2</th>\n",
       "      <td>Indonesian</td>\n",
       "    </tr>\n",
       "    <tr>\n",
       "      <th>3</th>\n",
       "      <td>Chinese_Simplified</td>\n",
       "    </tr>\n",
       "  </tbody>\n",
       "</table>\n",
       "</div>"
      ],
      "text/plain": [
       "             Language\n",
       "0             Russian\n",
       "1              Hebrew\n",
       "2          Indonesian\n",
       "3  Chinese_Simplified"
      ]
     },
     "execution_count": 2,
     "metadata": {},
     "output_type": "execute_result"
    }
   ],
   "source": [
    "# import data from data_processing module\n",
    "raters, r1, r2, r3, languages, rc, v1, v2 = data_processing.main()\n",
    "languages"
   ]
  },
  {
   "cell_type": "code",
   "execution_count": 3,
   "metadata": {},
   "outputs": [
    {
     "name": "stdin",
     "output_type": "stream",
     "text": [
      "\n",
      "Please select the number of the Language you are assessing:  1\n"
     ]
    },
    {
     "name": "stdout",
     "output_type": "stream",
     "text": [
      "\n",
      "You have selected 1 for Hebrew\n"
     ]
    }
   ],
   "source": [
    "def language_selection(languages):\n",
    "\n",
    "    while True:\n",
    "        try:\n",
    "            language_index = int(input(\"\\nPlease select the number of the Language you are assessing: \"))\n",
    "            if language_index < min(languages.index) or language_index > max(languages.index):\n",
    "                print(f\"\\nYou must enter numbers between {min(languages.index)} - {max(languages.index)}... Please try again\")\n",
    "                continue\n",
    "            elif language_index == \"\":\n",
    "                print(\"\\nYou must enter any numbers\")\n",
    "                continue\n",
    "            else:\n",
    "                print(f\"\\nYou have selected {language_index} for {languages.iloc[language_index, 0]}\")\n",
    "                language_selected = languages.iloc[language_index, 0]\n",
    "                break\n",
    "\n",
    "        except ValueError:\n",
    "            print(f\"\\nYou must enter numerical values only... Please try again\")\n",
    "            continue\n",
    "        else:\n",
    "            break\n",
    "            \n",
    "    return language_selected\n",
    "    \n",
    "language_selected = language_selection(languages)"
   ]
  },
  {
   "cell_type": "code",
   "execution_count": null,
   "metadata": {},
   "outputs": [],
   "source": []
  },
  {
   "cell_type": "markdown",
   "metadata": {},
   "source": [
    "#### Functions for Item Fail Rates"
   ]
  },
  {
   "cell_type": "code",
   "execution_count": 4,
   "metadata": {},
   "outputs": [],
   "source": [
    "# function for Language Modification\n",
    "def get_time_taken(df, language_selected):\n",
    "\n",
    "    # Filter data based on selected language\n",
    "    dfr = df[df['Language'] == language_selected]\n",
    "\n",
    "    # Time Taken by Item\n",
    "    dfr[\"Time_Taken_Seconds\"] = (dfr['_created_at'] - dfr['_started_at']).dt.seconds\n",
    "\n",
    "    # Time Taken Overall\n",
    "    dfr_grouped = dfr.groupby('_worker_id').sum('Time_Taken_Seconds')\n",
    "    dfr_grouped[\"Time_Taken_Minutes_Overall\"] = dfr_grouped[\"Time_Taken_Seconds\"] / 60\n",
    "    dfr_grouped = dfr_grouped.reset_index()\n",
    "    dfr = pd.merge(dfr, dfr_grouped[[\"Time_Taken_Minutes_Overall\", \"_worker_id\"]], how = 'left', on = '_worker_id')\n",
    "\n",
    "    return dfr\n",
    "\n",
    "def get_time_taken_all(language_selected, rc, v1, v2):\n",
    "    \n",
    "    df_list = [rc, v1, v2]\n",
    "    keys = [\"rcR\", \"v1R\", \"v2R\"]\n",
    "    df_time = {}\n",
    "    \n",
    "    for df, key in zip(df_list, keys) :\n",
    "\n",
    "        dfr = get_time_taken(df, language_selected)\n",
    "        df_time[key] = dfr\n",
    "\n",
    "    rcR, v1R, v2R = df_time[\"rcR\"], df_time[\"v1R\"], df_time[\"v2R\"]    \n",
    "    \n",
    "    return rcR, v1R, v2R\n",
    "\n",
    "rcR, v1R, v2R = get_time_taken_all(language_selected, rc, v1, v2)"
   ]
  },
  {
   "cell_type": "code",
   "execution_count": null,
   "metadata": {},
   "outputs": [],
   "source": []
  },
  {
   "cell_type": "code",
   "execution_count": null,
   "metadata": {},
   "outputs": [],
   "source": []
  },
  {
   "cell_type": "code",
   "execution_count": null,
   "metadata": {},
   "outputs": [],
   "source": []
  },
  {
   "cell_type": "markdown",
   "metadata": {},
   "source": [
    "#### Run all "
   ]
  },
  {
   "cell_type": "code",
   "execution_count": null,
   "metadata": {},
   "outputs": [],
   "source": [
    "# def main():\n",
    "\n",
    "#     file_initials = ['RC', 'Vocab_1', 'Vocab_2']\n",
    "\n",
    "#     df_summary = obtain_file_summary_df(file_initials)\n",
    "#     df_data = obtain_file_data_df(file_initials)\n",
    "#     raters =  obtain_distinct_raters(df_summary)\n",
    "#     rc, v1, v2 = merge_raters_to_df_data(df_data, raters)\n",
    "    \n",
    "#     return rc, v1, v2\n",
    "\n",
    "# if __name__ == \"__main__\":\n",
    "\n",
    "#     rc, v1, v2 = main()\n",
    "#     print('Automated data processing completed.')"
   ]
  },
  {
   "cell_type": "code",
   "execution_count": null,
   "metadata": {},
   "outputs": [],
   "source": []
  },
  {
   "cell_type": "code",
   "execution_count": null,
   "metadata": {},
   "outputs": [],
   "source": []
  },
  {
   "cell_type": "code",
   "execution_count": null,
   "metadata": {},
   "outputs": [],
   "source": []
  },
  {
   "cell_type": "code",
   "execution_count": null,
   "metadata": {},
   "outputs": [],
   "source": []
  },
  {
   "cell_type": "code",
   "execution_count": null,
   "metadata": {},
   "outputs": [],
   "source": []
  }
 ],
 "metadata": {
  "kernelspec": {
   "display_name": "ALA",
   "language": "python",
   "name": "ala"
  },
  "language_info": {
   "codemirror_mode": {
    "name": "ipython",
    "version": 3
   },
   "file_extension": ".py",
   "mimetype": "text/x-python",
   "name": "python",
   "nbconvert_exporter": "python",
   "pygments_lexer": "ipython3",
   "version": "3.8.5"
  }
 },
 "nbformat": 4,
 "nbformat_minor": 4
}
